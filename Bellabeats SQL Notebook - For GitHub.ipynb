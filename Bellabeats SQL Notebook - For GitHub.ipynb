{
    "metadata": {
        "kernelspec": {
            "name": "SQL",
            "display_name": "SQL",
            "language": "sql"
        },
        "language_info": {
            "name": "sql",
            "version": ""
        }
    },
    "nbformat_minor": 2,
    "nbformat": 4,
    "cells": [
        {
            "cell_type": "markdown",
            "source": [
                "## <span style=\"color: #008000;\">Introduction: FitBit Tracker Data Analysis for Bella Beats&nbsp;</span> \n",
                "\n",
                "### <span style=\"color: #008000;\">Notes about the data:</span>\n",
                "\n",
                "<span style=\"color: #008000;\">The data being used in this case study was retrieved from Kaggle and had been uploaded by a Kaggler named Möbius.&nbsp;</span> <span style=\"color: rgb(0, 128, 0); font-family: -apple-system, BlinkMacSystemFont, sans-serif;\">The data source is licensed under a public domain so copyright and IP concerns should not be an issue. For more information&nbsp;</span> <span style=\"color: rgb(0, 128, 0); font-family: -apple-system, BlinkMacSystemFont, sans-serif;\">about the data source and this public license please visit the following link: </span> [https://www.kaggle.com/datasets/arashnic/fitbit](https://www.kaggle.com/datasets/arashnic/fitbit)\n",
                "\n",
                "### <span style=\"color: #008000;\">Background on the data:</span>\n",
                "\n",
                "<span style=\"color: #008000;\">The datasets available in this datasource contains health-related information retrieved from roughly 30 'eligible' FitBit users who had&nbsp;</span> <span style=\"color: rgb(0, 128, 0); font-family: -apple-system, BlinkMacSystemFont, sans-serif;\">consented to sharing their FitBit tracking data to the public. Upon previewing this source we notice that there were 18 different tables&nbsp;</span>  <span style=\"color: rgb(0, 128, 0); font-family: -apple-system, BlinkMacSystemFont, sans-serif;\">containing data on different categories and even subsets of health-related information. The main datasets we're concerned with for the&nbsp;</span>  <span style=\"color: rgb(0, 128, 0); font-family: -apple-system, BlinkMacSystemFont, sans-serif;\">purposes of this project include the data involving: (1) Activity, which is found in the Daily_Activity table; (2) sleep, which is found&nbsp;</span>  <span style=\"color: rgb(0, 128, 0); font-family: -apple-system, BlinkMacSystemFont, sans-serif;\">in the Daily_Sleep table; and finally (3) Weight, which is found in the WeightLog table.</span>"
            ],
            "metadata": {
                "azdata_cell_guid": "628e4448-9ae2-42bc-aa39-9bbb7ccbaf2d"
            },
            "attachments": {}
        },
        {
            "cell_type": "code",
            "source": [
                "-- Previewing the Daily_Activity dataset\n",
                "\n",
                "SELECT \n",
                "    TOP 5 *\n",
                "FROM\n",
                "    CaseStudy1.dbo.Daily_Activity\n",
                "ORDER BY \n",
                "    ActivityDate ASC\n",
                "\n",
                "-- Previewing the Daily_Sleep dataset\n",
                "\n",
                "SELECT \n",
                "    TOP 5 *\n",
                "FROM CaseStudy1.dbo.Daily_Sleep\n",
                "ORDER BY\n",
                "    SleepDay ASC\n",
                "\n",
                "-- Previewing the WeightLog dataset\n",
                "\n",
                "SELECT TOP 5 *\n",
                "FROM \n",
                "    CaseStudy1.dbo.WeightLog\n",
                "ORDER BY \n",
                "    Date ASC\n",
                ""
            ],
            "metadata": {
                "language": "sql",
                "azdata_cell_guid": "76ce6290-3a37-4d4f-b50a-74efe759b3ad",
                "tags": []
            },
            "outputs": [
                {
                    "output_type": "display_data",
                    "data": {
                        "text/html": "(5 rows affected)"
                    },
                    "metadata": {}
                },
                {
                    "output_type": "display_data",
                    "data": {
                        "text/html": "(5 rows affected)"
                    },
                    "metadata": {}
                },
                {
                    "output_type": "display_data",
                    "data": {
                        "text/html": "(5 rows affected)"
                    },
                    "metadata": {}
                },
                {
                    "output_type": "display_data",
                    "data": {
                        "text/html": "Total execution time: 00:00:00.153"
                    },
                    "metadata": {}
                },
                {
                    "output_type": "execute_result",
                    "execution_count": 1,
                    "data": {
                        "application/vnd.dataresource+json": {
                            "schema": {
                                "fields": [
                                    {
                                        "name": "Id"
                                    },
                                    {
                                        "name": "ActivityDate"
                                    },
                                    {
                                        "name": "TotalSteps"
                                    },
                                    {
                                        "name": "TotalDistance"
                                    },
                                    {
                                        "name": "TrackerDistance"
                                    },
                                    {
                                        "name": "LoggedActivitiesDistance"
                                    },
                                    {
                                        "name": "VeryActiveDistance"
                                    },
                                    {
                                        "name": "ModeratelyActiveDistance"
                                    },
                                    {
                                        "name": "LightActiveDistance"
                                    },
                                    {
                                        "name": "SedentaryActiveDistance"
                                    },
                                    {
                                        "name": "VeryActiveMinutes"
                                    },
                                    {
                                        "name": "FairlyActiveMinutes"
                                    },
                                    {
                                        "name": "LightlyActiveMinutes"
                                    },
                                    {
                                        "name": "SedentaryMinutes"
                                    },
                                    {
                                        "name": "Calories"
                                    }
                                ]
                            },
                            "data": [
                                {
                                    "0": "1503960366",
                                    "1": "2016-04-12",
                                    "2": "13162",
                                    "3": "8.5",
                                    "4": "8.5",
                                    "5": "0",
                                    "6": "1.87999999523163",
                                    "7": "0.550000011920929",
                                    "8": "6.05999994277954",
                                    "9": "0",
                                    "10": "25",
                                    "11": "13",
                                    "12": "328",
                                    "13": "728",
                                    "14": "1985"
                                },
                                {
                                    "0": "1624580081",
                                    "1": "2016-04-12",
                                    "2": "8163",
                                    "3": "5.30999994277954",
                                    "4": "5.30999994277954",
                                    "5": "0",
                                    "6": "0",
                                    "7": "0",
                                    "8": "5.30999994277954",
                                    "9": "0",
                                    "10": "0",
                                    "11": "0",
                                    "12": "146",
                                    "13": "1294",
                                    "14": "1432"
                                },
                                {
                                    "0": "1644430081",
                                    "1": "2016-04-12",
                                    "2": "10694",
                                    "3": "7.76999998092651",
                                    "4": "7.76999998092651",
                                    "5": "0",
                                    "6": "0.140000000596046",
                                    "7": "2.29999995231628",
                                    "8": "5.32999992370605",
                                    "9": "0",
                                    "10": "2",
                                    "11": "51",
                                    "12": "256",
                                    "13": "1131",
                                    "14": "3199"
                                },
                                {
                                    "0": "1844505072",
                                    "1": "2016-04-12",
                                    "2": "6697",
                                    "3": "4.42999982833862",
                                    "4": "4.42999982833862",
                                    "5": "0",
                                    "6": "0",
                                    "7": "0",
                                    "8": "4.42999982833862",
                                    "9": "0",
                                    "10": "0",
                                    "11": "0",
                                    "12": "339",
                                    "13": "1101",
                                    "14": "2030"
                                },
                                {
                                    "0": "1927972279",
                                    "1": "2016-04-12",
                                    "2": "678",
                                    "3": "0.469999998807907",
                                    "4": "0.469999998807907",
                                    "5": "0",
                                    "6": "0",
                                    "7": "0",
                                    "8": "0.469999998807907",
                                    "9": "0",
                                    "10": "0",
                                    "11": "0",
                                    "12": "55",
                                    "13": "734",
                                    "14": "2220"
                                }
                            ]
                        },
                        "text/html": "<table><tr><th>Id</th><th>ActivityDate</th><th>TotalSteps</th><th>TotalDistance</th><th>TrackerDistance</th><th>LoggedActivitiesDistance</th><th>VeryActiveDistance</th><th>ModeratelyActiveDistance</th><th>LightActiveDistance</th><th>SedentaryActiveDistance</th><th>VeryActiveMinutes</th><th>FairlyActiveMinutes</th><th>LightlyActiveMinutes</th><th>SedentaryMinutes</th><th>Calories</th></tr><tr><td>1503960366</td><td>2016-04-12</td><td>13162</td><td>8.5</td><td>8.5</td><td>0</td><td>1.87999999523163</td><td>0.550000011920929</td><td>6.05999994277954</td><td>0</td><td>25</td><td>13</td><td>328</td><td>728</td><td>1985</td></tr><tr><td>1624580081</td><td>2016-04-12</td><td>8163</td><td>5.30999994277954</td><td>5.30999994277954</td><td>0</td><td>0</td><td>0</td><td>5.30999994277954</td><td>0</td><td>0</td><td>0</td><td>146</td><td>1294</td><td>1432</td></tr><tr><td>1644430081</td><td>2016-04-12</td><td>10694</td><td>7.76999998092651</td><td>7.76999998092651</td><td>0</td><td>0.140000000596046</td><td>2.29999995231628</td><td>5.32999992370605</td><td>0</td><td>2</td><td>51</td><td>256</td><td>1131</td><td>3199</td></tr><tr><td>1844505072</td><td>2016-04-12</td><td>6697</td><td>4.42999982833862</td><td>4.42999982833862</td><td>0</td><td>0</td><td>0</td><td>4.42999982833862</td><td>0</td><td>0</td><td>0</td><td>339</td><td>1101</td><td>2030</td></tr><tr><td>1927972279</td><td>2016-04-12</td><td>678</td><td>0.469999998807907</td><td>0.469999998807907</td><td>0</td><td>0</td><td>0</td><td>0.469999998807907</td><td>0</td><td>0</td><td>0</td><td>55</td><td>734</td><td>2220</td></tr></table>"
                    },
                    "metadata": {}
                },
                {
                    "output_type": "execute_result",
                    "execution_count": 1,
                    "data": {
                        "application/vnd.dataresource+json": {
                            "schema": {
                                "fields": [
                                    {
                                        "name": "Id"
                                    },
                                    {
                                        "name": "SleepDay"
                                    },
                                    {
                                        "name": "TotalSleepRecords"
                                    },
                                    {
                                        "name": "TotalMinutesAsleep"
                                    },
                                    {
                                        "name": "TotalTimeInBed"
                                    }
                                ]
                            },
                            "data": [
                                {
                                    "0": "1503960366",
                                    "1": "2016-04-12",
                                    "2": "1",
                                    "3": "327",
                                    "4": "346"
                                },
                                {
                                    "0": "1927972279",
                                    "1": "2016-04-12",
                                    "2": "3",
                                    "3": "750",
                                    "4": "775"
                                },
                                {
                                    "0": "2026352035",
                                    "1": "2016-04-12",
                                    "2": "1",
                                    "3": "503",
                                    "4": "546"
                                },
                                {
                                    "0": "3977333714",
                                    "1": "2016-04-12",
                                    "2": "1",
                                    "3": "274",
                                    "4": "469"
                                },
                                {
                                    "0": "4020332650",
                                    "1": "2016-04-12",
                                    "2": "1",
                                    "3": "501",
                                    "4": "541"
                                }
                            ]
                        },
                        "text/html": "<table><tr><th>Id</th><th>SleepDay</th><th>TotalSleepRecords</th><th>TotalMinutesAsleep</th><th>TotalTimeInBed</th></tr><tr><td>1503960366</td><td>2016-04-12</td><td>1</td><td>327</td><td>346</td></tr><tr><td>1927972279</td><td>2016-04-12</td><td>3</td><td>750</td><td>775</td></tr><tr><td>2026352035</td><td>2016-04-12</td><td>1</td><td>503</td><td>546</td></tr><tr><td>3977333714</td><td>2016-04-12</td><td>1</td><td>274</td><td>469</td></tr><tr><td>4020332650</td><td>2016-04-12</td><td>1</td><td>501</td><td>541</td></tr></table>"
                    },
                    "metadata": {}
                },
                {
                    "output_type": "execute_result",
                    "execution_count": 1,
                    "data": {
                        "application/vnd.dataresource+json": {
                            "schema": {
                                "fields": [
                                    {
                                        "name": "Id"
                                    },
                                    {
                                        "name": "Date"
                                    },
                                    {
                                        "name": "WeightKg"
                                    },
                                    {
                                        "name": "WeightPounds"
                                    },
                                    {
                                        "name": "Fat"
                                    },
                                    {
                                        "name": "BMI"
                                    },
                                    {
                                        "name": "IsManualReport"
                                    },
                                    {
                                        "name": "LogId"
                                    }
                                ]
                            },
                            "data": [
                                {
                                    "0": "6962181067",
                                    "1": "2016-04-12",
                                    "2": "62.5",
                                    "3": "137.788913865625",
                                    "4": "NULL",
                                    "5": "24.3899993896484",
                                    "6": "1",
                                    "7": "1460505599000"
                                },
                                {
                                    "0": "8877689391",
                                    "1": "2016-04-12",
                                    "2": "85.8000030517578",
                                    "3": "189.156627682704",
                                    "4": "NULL",
                                    "5": "25.6800003051758",
                                    "6": "0",
                                    "7": "1460443631000"
                                },
                                {
                                    "0": "1927972279",
                                    "1": "2016-04-13",
                                    "2": "133.5",
                                    "3": "294.317120016975",
                                    "4": "NULL",
                                    "5": "47.5400009155273",
                                    "6": "0",
                                    "7": "1460509732000"
                                },
                                {
                                    "0": "6962181067",
                                    "1": "2016-04-13",
                                    "2": "62.0999984741211",
                                    "3": "136.907061452898",
                                    "4": "NULL",
                                    "5": "24.2399997711182",
                                    "6": "1",
                                    "7": "1460591999000"
                                },
                                {
                                    "0": "8877689391",
                                    "1": "2016-04-13",
                                    "2": "84.9000015258789",
                                    "3": "187.172463959052",
                                    "4": "NULL",
                                    "5": "25.4099998474121",
                                    "6": "0",
                                    "7": "1460530500000"
                                }
                            ]
                        },
                        "text/html": "<table><tr><th>Id</th><th>Date</th><th>WeightKg</th><th>WeightPounds</th><th>Fat</th><th>BMI</th><th>IsManualReport</th><th>LogId</th></tr><tr><td>6962181067</td><td>2016-04-12</td><td>62.5</td><td>137.788913865625</td><td>NULL</td><td>24.3899993896484</td><td>1</td><td>1460505599000</td></tr><tr><td>8877689391</td><td>2016-04-12</td><td>85.8000030517578</td><td>189.156627682704</td><td>NULL</td><td>25.6800003051758</td><td>0</td><td>1460443631000</td></tr><tr><td>1927972279</td><td>2016-04-13</td><td>133.5</td><td>294.317120016975</td><td>NULL</td><td>47.5400009155273</td><td>0</td><td>1460509732000</td></tr><tr><td>6962181067</td><td>2016-04-13</td><td>62.0999984741211</td><td>136.907061452898</td><td>NULL</td><td>24.2399997711182</td><td>1</td><td>1460591999000</td></tr><tr><td>8877689391</td><td>2016-04-13</td><td>84.9000015258789</td><td>187.172463959052</td><td>NULL</td><td>25.4099998474121</td><td>0</td><td>1460530500000</td></tr></table>"
                    },
                    "metadata": {}
                }
            ],
            "execution_count": 1
        },
        {
            "cell_type": "markdown",
            "source": [
                "<span style=\"color: #008000;\">Now that we have an idea of what each of these 3 tables look like, let's take a look at exactly how many participants there are. This</span> <span style=\"color: rgb(0, 128, 0); font-family: -apple-system, BlinkMacSystemFont, sans-serif;\">will give us an idea of the sample size we're working with. We'll be using the UNION syntax to accomplish this.&nbsp;</span> <span style=\"color: rgb(0, 128, 0); font-family: -apple-system, BlinkMacSystemFont, sans-serif;\">Note to Self: The results from the query below will only show DISTINCT results thus duplicate results will not appear. This is what we</span> <span style=\"color: rgb(0, 128, 0); font-family: -apple-system, BlinkMacSystemFont, sans-serif;\">want. To include duplicate results when involving UNION please remember to use UNION ALL.</span>"
            ],
            "metadata": {
                "language": "sql",
                "azdata_cell_guid": "e6e2f665-d310-4c39-9185-597b2e9485e6"
            },
            "attachments": {}
        },
        {
            "cell_type": "code",
            "source": [
                "--- Joining all tables to find the total number of participants in the FitBit tracker dataset\n",
                "\n",
                "SELECT Id\n",
                "FROM CaseStudy1.dbo.Daily_Activity\n",
                "UNION\n",
                "SELECT Id\n",
                "FROM CaseStudy1.dbo.Daily_Sleep\n",
                "UNION\n",
                "SELECT Id\n",
                "FROM CaseStudy1.dbo.WeightLog"
            ],
            "metadata": {
                "language": "sql",
                "azdata_cell_guid": "954ce170-eeb4-4577-a6d2-2a8e2172fa73"
            },
            "outputs": [
                {
                    "output_type": "display_data",
                    "data": {
                        "text/html": "(33 rows affected)"
                    },
                    "metadata": {}
                },
                {
                    "output_type": "display_data",
                    "data": {
                        "text/html": "Total execution time: 00:00:00.127"
                    },
                    "metadata": {}
                },
                {
                    "output_type": "execute_result",
                    "execution_count": 1,
                    "data": {
                        "application/vnd.dataresource+json": {
                            "schema": {
                                "fields": [
                                    {
                                        "name": "Id"
                                    }
                                ]
                            },
                            "data": [
                                {
                                    "0": "1644430081"
                                },
                                {
                                    "0": "7086361926"
                                },
                                {
                                    "0": "4702921684"
                                },
                                {
                                    "0": "3977333714"
                                },
                                {
                                    "0": "6290855005"
                                },
                                {
                                    "0": "3372868164"
                                },
                                {
                                    "0": "8877689391"
                                },
                                {
                                    "0": "2026352035"
                                },
                                {
                                    "0": "5577150313"
                                },
                                {
                                    "0": "4319703577"
                                },
                                {
                                    "0": "4020332650"
                                },
                                {
                                    "0": "4057192912"
                                },
                                {
                                    "0": "8053475328"
                                },
                                {
                                    "0": "4445114986"
                                },
                                {
                                    "0": "6962181067"
                                },
                                {
                                    "0": "8792009665"
                                },
                                {
                                    "0": "2022484408"
                                },
                                {
                                    "0": "8378563200"
                                },
                                {
                                    "0": "1927972279"
                                },
                                {
                                    "0": "2320127002"
                                },
                                {
                                    "0": "5553957443"
                                },
                                {
                                    "0": "7007744171"
                                },
                                {
                                    "0": "1503960366"
                                },
                                {
                                    "0": "8583815059"
                                },
                                {
                                    "0": "4558609924"
                                },
                                {
                                    "0": "2873212765"
                                },
                                {
                                    "0": "4388161847"
                                },
                                {
                                    "0": "6775888955"
                                },
                                {
                                    "0": "1624580081"
                                },
                                {
                                    "0": "1844505072"
                                },
                                {
                                    "0": "6117666160"
                                },
                                {
                                    "0": "2347167796"
                                },
                                {
                                    "0": "8253242879"
                                }
                            ]
                        },
                        "text/html": "<table><tr><th>Id</th></tr><tr><td>1644430081</td></tr><tr><td>7086361926</td></tr><tr><td>4702921684</td></tr><tr><td>3977333714</td></tr><tr><td>6290855005</td></tr><tr><td>3372868164</td></tr><tr><td>8877689391</td></tr><tr><td>2026352035</td></tr><tr><td>5577150313</td></tr><tr><td>4319703577</td></tr><tr><td>4020332650</td></tr><tr><td>4057192912</td></tr><tr><td>8053475328</td></tr><tr><td>4445114986</td></tr><tr><td>6962181067</td></tr><tr><td>8792009665</td></tr><tr><td>2022484408</td></tr><tr><td>8378563200</td></tr><tr><td>1927972279</td></tr><tr><td>2320127002</td></tr><tr><td>5553957443</td></tr><tr><td>7007744171</td></tr><tr><td>1503960366</td></tr><tr><td>8583815059</td></tr><tr><td>4558609924</td></tr><tr><td>2873212765</td></tr><tr><td>4388161847</td></tr><tr><td>6775888955</td></tr><tr><td>1624580081</td></tr><tr><td>1844505072</td></tr><tr><td>6117666160</td></tr><tr><td>2347167796</td></tr><tr><td>8253242879</td></tr></table>"
                    },
                    "metadata": {}
                }
            ],
            "execution_count": 1
        },
        {
            "cell_type": "markdown",
            "source": [
                "### <span style=\"color: #008000;\">Results:</span>\n",
                "\n",
                "<span style=\"color: #008000;\">We find that there are a total of 33 participants who were involved in our FitBit tracker dataset. This finding is based off&nbsp;</span>  <span style=\"color: rgb(0, 128, 0); font-family: -apple-system, BlinkMacSystemFont, sans-serif;\">of combining the 3 tables (Daily_Activity, Daily_Sleep, and WeightLog) together and looking at the total number of distinct Ids. Moving&nbsp;</span>  <span style=\"color: rgb(0, 128, 0); font-family: -apple-system, BlinkMacSystemFont, sans-serif;\">forward with this analysis, it may be important to note that a sample size of 33 participants may not be sufficient when representing&nbsp;</span> <span style=\"color: rgb(0, 128, 0); font-family: -apple-system, BlinkMacSystemFont, sans-serif;\">the total population of individuals who use smart devices that track their health.</span>"
            ],
            "metadata": {
                "language": "sql",
                "azdata_cell_guid": "177ed6ea-6b05-477c-947d-0c366e46ccfe"
            },
            "attachments": {}
        },
        {
            "cell_type": "code",
            "source": [
                "-- Identifying the number of participants in the Daily_Activity table\n",
                "\n",
                "SELECT \n",
                "    COUNT(DISTINCT Id) AS Number_of_Participants\n",
                "FROM\n",
                "    CaseStudy1.dbo.Daily_Activity"
            ],
            "metadata": {
                "azdata_cell_guid": "817f4787-49e1-40f8-942e-8bfc95b22172",
                "language": "sql"
            },
            "outputs": [
                {
                    "output_type": "display_data",
                    "data": {
                        "text/html": "(1 row affected)"
                    },
                    "metadata": {}
                },
                {
                    "output_type": "display_data",
                    "data": {
                        "text/html": "Total execution time: 00:00:00.027"
                    },
                    "metadata": {}
                },
                {
                    "output_type": "execute_result",
                    "execution_count": 2,
                    "data": {
                        "application/vnd.dataresource+json": {
                            "schema": {
                                "fields": [
                                    {
                                        "name": "Number_of_Participants"
                                    }
                                ]
                            },
                            "data": [
                                {
                                    "0": "33"
                                }
                            ]
                        },
                        "text/html": "<table><tr><th>Number_of_Participants</th></tr><tr><td>33</td></tr></table>"
                    },
                    "metadata": {}
                }
            ],
            "execution_count": 2
        },
        {
            "cell_type": "markdown",
            "source": [
                "### <span style=\"color: #008000;\">Results:</span>\n",
                "\n",
                "<span style=\"color: #008000;\">There are 33 participants in the Daily_Activity table. It looks like all of the participants in our FitBit tracker dataset&nbsp;</span>  <span style=\"color: rgb(0, 128, 0); font-family: -apple-system, BlinkMacSystemFont, sans-serif;\">happen to have entered an activity log.&nbsp;</span>  \n",
                "\n",
                "<span style=\"color: rgb(0, 128, 0); font-family: -apple-system, BlinkMacSystemFont, sans-serif;\">Let's try and find out if these individuals are consistent loggers by looking at how frequently</span> <span style=\"color: rgb(0, 128, 0); font-family: -apple-system, BlinkMacSystemFont, sans-serif;\">they log their daily activities!</span>"
            ],
            "metadata": {
                "language": "sql",
                "azdata_cell_guid": "378e00ff-0202-422f-b1b0-e89dc0cd63f5"
            },
            "attachments": {}
        },
        {
            "cell_type": "code",
            "source": [
                "SELECT \n",
                "    Id,\n",
                "    MIN(ActivityDate) AS First_Log,\n",
                "    MAX(ActivityDate) AS Last_Log,\n",
                "    COUNT(*) AS Number_Of_Logs\n",
                "FROM\n",
                "    CaseStudy1.dbo.Daily_Activity\n",
                "GROUP BY Id\n",
                "ORDER BY Number_Of_Logs ASC"
            ],
            "metadata": {
                "language": "sql",
                "azdata_cell_guid": "cfd56199-39ab-496c-b413-7de47b45be37"
            },
            "outputs": [
                {
                    "output_type": "display_data",
                    "data": {
                        "text/html": "(33 rows affected)"
                    },
                    "metadata": {}
                },
                {
                    "output_type": "display_data",
                    "data": {
                        "text/html": "Total execution time: 00:00:00.044"
                    },
                    "metadata": {}
                },
                {
                    "output_type": "execute_result",
                    "execution_count": 3,
                    "data": {
                        "application/vnd.dataresource+json": {
                            "schema": {
                                "fields": [
                                    {
                                        "name": "Id"
                                    },
                                    {
                                        "name": "First_Log"
                                    },
                                    {
                                        "name": "Last_Log"
                                    },
                                    {
                                        "name": "Number_Of_Logs"
                                    }
                                ]
                            },
                            "data": [
                                {
                                    "0": "4057192912",
                                    "1": "2016-04-12",
                                    "2": "2016-04-15",
                                    "3": "4"
                                },
                                {
                                    "0": "2347167796",
                                    "1": "2016-04-12",
                                    "2": "2016-04-29",
                                    "3": "18"
                                },
                                {
                                    "0": "8253242879",
                                    "1": "2016-04-12",
                                    "2": "2016-04-30",
                                    "3": "19"
                                },
                                {
                                    "0": "3372868164",
                                    "1": "2016-04-12",
                                    "2": "2016-05-01",
                                    "3": "20"
                                },
                                {
                                    "0": "6775888955",
                                    "1": "2016-04-12",
                                    "2": "2016-05-07",
                                    "3": "26"
                                },
                                {
                                    "0": "7007744171",
                                    "1": "2016-04-12",
                                    "2": "2016-05-07",
                                    "3": "26"
                                },
                                {
                                    "0": "6117666160",
                                    "1": "2016-04-12",
                                    "2": "2016-05-09",
                                    "3": "28"
                                },
                                {
                                    "0": "6290855005",
                                    "1": "2016-04-12",
                                    "2": "2016-05-10",
                                    "3": "29"
                                },
                                {
                                    "0": "8792009665",
                                    "1": "2016-04-12",
                                    "2": "2016-05-10",
                                    "3": "29"
                                },
                                {
                                    "0": "3977333714",
                                    "1": "2016-04-12",
                                    "2": "2016-05-11",
                                    "3": "30"
                                },
                                {
                                    "0": "1644430081",
                                    "1": "2016-04-12",
                                    "2": "2016-05-11",
                                    "3": "30"
                                },
                                {
                                    "0": "5577150313",
                                    "1": "2016-04-12",
                                    "2": "2016-05-11",
                                    "3": "30"
                                },
                                {
                                    "0": "4319703577",
                                    "1": "2016-04-12",
                                    "2": "2016-05-12",
                                    "3": "31"
                                },
                                {
                                    "0": "4020332650",
                                    "1": "2016-04-12",
                                    "2": "2016-05-12",
                                    "3": "31"
                                },
                                {
                                    "0": "8877689391",
                                    "1": "2016-04-12",
                                    "2": "2016-05-12",
                                    "3": "31"
                                },
                                {
                                    "0": "2026352035",
                                    "1": "2016-04-12",
                                    "2": "2016-05-12",
                                    "3": "31"
                                },
                                {
                                    "0": "7086361926",
                                    "1": "2016-04-12",
                                    "2": "2016-05-12",
                                    "3": "31"
                                },
                                {
                                    "0": "4702921684",
                                    "1": "2016-04-12",
                                    "2": "2016-05-12",
                                    "3": "31"
                                },
                                {
                                    "0": "2022484408",
                                    "1": "2016-04-12",
                                    "2": "2016-05-12",
                                    "3": "31"
                                },
                                {
                                    "0": "8378563200",
                                    "1": "2016-04-12",
                                    "2": "2016-05-12",
                                    "3": "31"
                                },
                                {
                                    "0": "1927972279",
                                    "1": "2016-04-12",
                                    "2": "2016-05-12",
                                    "3": "31"
                                },
                                {
                                    "0": "2320127002",
                                    "1": "2016-04-12",
                                    "2": "2016-05-12",
                                    "3": "31"
                                },
                                {
                                    "0": "5553957443",
                                    "1": "2016-04-12",
                                    "2": "2016-05-12",
                                    "3": "31"
                                },
                                {
                                    "0": "8053475328",
                                    "1": "2016-04-12",
                                    "2": "2016-05-12",
                                    "3": "31"
                                },
                                {
                                    "0": "4445114986",
                                    "1": "2016-04-12",
                                    "2": "2016-05-12",
                                    "3": "31"
                                },
                                {
                                    "0": "6962181067",
                                    "1": "2016-04-12",
                                    "2": "2016-05-12",
                                    "3": "31"
                                },
                                {
                                    "0": "1503960366",
                                    "1": "2016-04-12",
                                    "2": "2016-05-12",
                                    "3": "31"
                                },
                                {
                                    "0": "8583815059",
                                    "1": "2016-04-12",
                                    "2": "2016-05-12",
                                    "3": "31"
                                },
                                {
                                    "0": "4558609924",
                                    "1": "2016-04-12",
                                    "2": "2016-05-12",
                                    "3": "31"
                                },
                                {
                                    "0": "2873212765",
                                    "1": "2016-04-12",
                                    "2": "2016-05-12",
                                    "3": "31"
                                },
                                {
                                    "0": "4388161847",
                                    "1": "2016-04-12",
                                    "2": "2016-05-12",
                                    "3": "31"
                                },
                                {
                                    "0": "1624580081",
                                    "1": "2016-04-12",
                                    "2": "2016-05-12",
                                    "3": "31"
                                },
                                {
                                    "0": "1844505072",
                                    "1": "2016-04-12",
                                    "2": "2016-05-12",
                                    "3": "31"
                                }
                            ]
                        },
                        "text/html": "<table><tr><th>Id</th><th>First_Log</th><th>Last_Log</th><th>Number_Of_Logs</th></tr><tr><td>4057192912</td><td>2016-04-12</td><td>2016-04-15</td><td>4</td></tr><tr><td>2347167796</td><td>2016-04-12</td><td>2016-04-29</td><td>18</td></tr><tr><td>8253242879</td><td>2016-04-12</td><td>2016-04-30</td><td>19</td></tr><tr><td>3372868164</td><td>2016-04-12</td><td>2016-05-01</td><td>20</td></tr><tr><td>6775888955</td><td>2016-04-12</td><td>2016-05-07</td><td>26</td></tr><tr><td>7007744171</td><td>2016-04-12</td><td>2016-05-07</td><td>26</td></tr><tr><td>6117666160</td><td>2016-04-12</td><td>2016-05-09</td><td>28</td></tr><tr><td>6290855005</td><td>2016-04-12</td><td>2016-05-10</td><td>29</td></tr><tr><td>8792009665</td><td>2016-04-12</td><td>2016-05-10</td><td>29</td></tr><tr><td>3977333714</td><td>2016-04-12</td><td>2016-05-11</td><td>30</td></tr><tr><td>1644430081</td><td>2016-04-12</td><td>2016-05-11</td><td>30</td></tr><tr><td>5577150313</td><td>2016-04-12</td><td>2016-05-11</td><td>30</td></tr><tr><td>4319703577</td><td>2016-04-12</td><td>2016-05-12</td><td>31</td></tr><tr><td>4020332650</td><td>2016-04-12</td><td>2016-05-12</td><td>31</td></tr><tr><td>8877689391</td><td>2016-04-12</td><td>2016-05-12</td><td>31</td></tr><tr><td>2026352035</td><td>2016-04-12</td><td>2016-05-12</td><td>31</td></tr><tr><td>7086361926</td><td>2016-04-12</td><td>2016-05-12</td><td>31</td></tr><tr><td>4702921684</td><td>2016-04-12</td><td>2016-05-12</td><td>31</td></tr><tr><td>2022484408</td><td>2016-04-12</td><td>2016-05-12</td><td>31</td></tr><tr><td>8378563200</td><td>2016-04-12</td><td>2016-05-12</td><td>31</td></tr><tr><td>1927972279</td><td>2016-04-12</td><td>2016-05-12</td><td>31</td></tr><tr><td>2320127002</td><td>2016-04-12</td><td>2016-05-12</td><td>31</td></tr><tr><td>5553957443</td><td>2016-04-12</td><td>2016-05-12</td><td>31</td></tr><tr><td>8053475328</td><td>2016-04-12</td><td>2016-05-12</td><td>31</td></tr><tr><td>4445114986</td><td>2016-04-12</td><td>2016-05-12</td><td>31</td></tr><tr><td>6962181067</td><td>2016-04-12</td><td>2016-05-12</td><td>31</td></tr><tr><td>1503960366</td><td>2016-04-12</td><td>2016-05-12</td><td>31</td></tr><tr><td>8583815059</td><td>2016-04-12</td><td>2016-05-12</td><td>31</td></tr><tr><td>4558609924</td><td>2016-04-12</td><td>2016-05-12</td><td>31</td></tr><tr><td>2873212765</td><td>2016-04-12</td><td>2016-05-12</td><td>31</td></tr><tr><td>4388161847</td><td>2016-04-12</td><td>2016-05-12</td><td>31</td></tr><tr><td>1624580081</td><td>2016-04-12</td><td>2016-05-12</td><td>31</td></tr><tr><td>1844505072</td><td>2016-04-12</td><td>2016-05-12</td><td>31</td></tr></table>"
                    },
                    "metadata": {}
                }
            ],
            "execution_count": 3
        },
        {
            "cell_type": "markdown",
            "source": [
                "### <span style=\"color: #008000;\">Results:</span>\n",
                "\n",
                "<span style=\"color: #008000;\">We find that many of our daily activity loggers were frequent loggers. We only had one outlier which was for participant&nbsp;</span> <span style=\"color: rgb(0, 128, 0); font-family: -apple-system, BlinkMacSystemFont, sans-serif;\">#4057192019. This individual only had 4 logs, whereas the second most infrequent logger had 18 logs.</span>\n",
                "\n",
                "<span style=\"color: #008000;\">Next, let's take a look at what our average number of logs were among the 33 participants in the Daily_Activity table.</span>"
            ],
            "metadata": {
                "language": "sql",
                "azdata_cell_guid": "e5fdf29a-8d64-4284-afc2-bfe880852ae6"
            },
            "attachments": {}
        },
        {
            "cell_type": "code",
            "source": [
                "SELECT AVG(Num_Of_Logs) AS Average_Number_Logs\n",
                "FROM (SELECT COUNT(*) AS Num_Of_Logs\n",
                "    FROM CaseStudy1.dbo.Daily_Activity\n",
                "    GROUP BY Id) AS Table1"
            ],
            "metadata": {
                "language": "sql",
                "azdata_cell_guid": "f54bcfcd-dc43-459a-8810-1916d08a723a"
            },
            "outputs": [
                {
                    "output_type": "display_data",
                    "data": {
                        "text/html": "(1 row affected)"
                    },
                    "metadata": {}
                },
                {
                    "output_type": "display_data",
                    "data": {
                        "text/html": "Total execution time: 00:00:00.018"
                    },
                    "metadata": {}
                },
                {
                    "output_type": "execute_result",
                    "execution_count": 4,
                    "data": {
                        "application/vnd.dataresource+json": {
                            "schema": {
                                "fields": [
                                    {
                                        "name": "Average_Number_Logs"
                                    }
                                ]
                            },
                            "data": [
                                {
                                    "0": "28"
                                }
                            ]
                        },
                        "text/html": "<table><tr><th>Average_Number_Logs</th></tr><tr><td>28</td></tr></table>"
                    },
                    "metadata": {}
                }
            ],
            "execution_count": 4
        },
        {
            "cell_type": "markdown",
            "source": [
                "### <span style=\"color: #008000;\">Results:</span>\n",
                "\n",
                "<span style=\"color: #008000;\">We discover that as an average our 33 participants logged on 28 different days during the time frame we have data for. This show that the&nbsp;</span> <span style=\"color: rgb(0, 128, 0); font-family: -apple-system, BlinkMacSystemFont, sans-serif;\">participants in our sample size seem to use this activity tracking feature&nbsp;</span> <span style=\"color: rgb(0, 128, 0); font-family: -apple-system, BlinkMacSystemFont, sans-serif;\">relatively frequently.</span> <span style=\"font-family: -apple-system, BlinkMacSystemFont, sans-serif; color: rgb(0, 128, 0);\">We'd have to compare this average with the average logging frequencies found in the other 2 datasets, Daily_Sleep and WeightLog tables,</span> <span style=\"font-family: -apple-system, BlinkMacSystemFont, sans-serif; color: rgb(0, 128, 0);\">to get a better idea of whether an average of 28 logs is considerably high or low.&nbsp;</span>  \n",
                "\n",
                "<span style=\"font-family: -apple-system, BlinkMacSystemFont, sans-serif; color: rgb(0, 128, 0);\">Next, let's take a look at how many participants in our total dataset are in our WeightLog dataset</span>"
            ],
            "metadata": {
                "language": "sql",
                "azdata_cell_guid": "1774b23f-95ea-4c7b-91ae-f0e28e734c03"
            },
            "attachments": {}
        },
        {
            "cell_type": "code",
            "source": [
                "-- Identifying the number of participants in the WeightLog data table\n",
                "\n",
                "SELECT \n",
                "    COUNT(DISTINCT Id) AS Number_Of_Participants\n",
                "FROM CaseStudy1.dbo.WeightLog"
            ],
            "metadata": {
                "azdata_cell_guid": "2c340894-ff80-4cf5-8b4a-4de21b0d6666",
                "language": "sql",
                "tags": []
            },
            "outputs": [
                {
                    "output_type": "display_data",
                    "data": {
                        "text/html": "(1 row affected)"
                    },
                    "metadata": {}
                },
                {
                    "output_type": "display_data",
                    "data": {
                        "text/html": "Total execution time: 00:00:00.011"
                    },
                    "metadata": {}
                },
                {
                    "output_type": "execute_result",
                    "execution_count": 9,
                    "data": {
                        "application/vnd.dataresource+json": {
                            "schema": {
                                "fields": [
                                    {
                                        "name": "Number_Of_Participants"
                                    }
                                ]
                            },
                            "data": [
                                {
                                    "0": "8"
                                }
                            ]
                        },
                        "text/html": "<table><tr><th>Number_Of_Participants</th></tr><tr><td>8</td></tr></table>"
                    },
                    "metadata": {}
                }
            ],
            "execution_count": 9
        },
        {
            "cell_type": "markdown",
            "source": [
                "### <span style=\"color: #008000;\">Results:</span>\n",
                "\n",
                "<span style=\"color: #008000;\">We see that 8 participants had used the weightlog function in their FitBit device. This suggests that only 8/33 candidates used </span> <span style=\"color: rgb(0, 128, 0);\">their FitBit devices to track their weights. That's only 24.24% of our sample size!</span>\n",
                "\n",
                "### <span style=\"color: #008000;\">Hypotheses:</span>\n",
                "\n",
                "<span style=\"color: #008000;\">From an early perception, these results lead me to believe that perhaps weight logging features should not be a major focus for</span> <span style=\"color: rgb(0, 128, 0); font-family: -apple-system, BlinkMacSystemFont, sans-serif;\">Bellabeats and their product development / marketing campaigns as 75.76% of the smart device users don't use tend to weight log function.&nbsp;</span>  <span style=\"color: rgb(0, 128, 0); font-family: -apple-system, BlinkMacSystemFont, sans-serif;\">But, let's find out a bit more and see exactly how frequently these 8 individuals logged their weights</span>"
            ],
            "metadata": {
                "language": "sql",
                "azdata_cell_guid": "7cfe68ae-b7b8-49cd-a434-1508d91d9417"
            },
            "attachments": {}
        },
        {
            "cell_type": "code",
            "source": [
                "SELECT \n",
                "    Id,\n",
                "    MIN(Date) AS Earliest_WeightLog,\n",
                "    MAX(Date) AS Latest_WeightLog,\n",
                "    COUNT(*) AS Number_of_Logs\n",
                "FROM \n",
                "    CaseStudy1.dbo.WeightLog\n",
                "GROUP BY Id"
            ],
            "metadata": {
                "language": "sql",
                "azdata_cell_guid": "d14794e8-8ee4-4ebe-9171-1b0064106e3c"
            },
            "outputs": [
                {
                    "output_type": "display_data",
                    "data": {
                        "text/html": "(8 rows affected)"
                    },
                    "metadata": {}
                },
                {
                    "output_type": "display_data",
                    "data": {
                        "text/html": "Total execution time: 00:00:00.011"
                    },
                    "metadata": {}
                },
                {
                    "output_type": "execute_result",
                    "execution_count": 7,
                    "data": {
                        "application/vnd.dataresource+json": {
                            "schema": {
                                "fields": [
                                    {
                                        "name": "Id"
                                    },
                                    {
                                        "name": "Earliest_WeightLog"
                                    },
                                    {
                                        "name": "Latest_WeightLog"
                                    },
                                    {
                                        "name": "Number_of_Logs"
                                    }
                                ]
                            },
                            "data": [
                                {
                                    "0": "1503960366",
                                    "1": "2016-05-02",
                                    "2": "2016-05-03",
                                    "3": "2"
                                },
                                {
                                    "0": "1927972279",
                                    "1": "2016-04-13",
                                    "2": "2016-04-13",
                                    "3": "1"
                                },
                                {
                                    "0": "2873212765",
                                    "1": "2016-04-21",
                                    "2": "2016-05-12",
                                    "3": "2"
                                },
                                {
                                    "0": "4319703577",
                                    "1": "2016-04-17",
                                    "2": "2016-05-04",
                                    "3": "2"
                                },
                                {
                                    "0": "4558609924",
                                    "1": "2016-04-18",
                                    "2": "2016-05-09",
                                    "3": "5"
                                },
                                {
                                    "0": "5577150313",
                                    "1": "2016-04-17",
                                    "2": "2016-04-17",
                                    "3": "1"
                                },
                                {
                                    "0": "6962181067",
                                    "1": "2016-04-12",
                                    "2": "2016-05-12",
                                    "3": "30"
                                },
                                {
                                    "0": "8877689391",
                                    "1": "2016-04-12",
                                    "2": "2016-05-12",
                                    "3": "24"
                                }
                            ]
                        },
                        "text/html": "<table><tr><th>Id</th><th>Earliest_WeightLog</th><th>Latest_WeightLog</th><th>Number_of_Logs</th></tr><tr><td>1503960366</td><td>2016-05-02</td><td>2016-05-03</td><td>2</td></tr><tr><td>1927972279</td><td>2016-04-13</td><td>2016-04-13</td><td>1</td></tr><tr><td>2873212765</td><td>2016-04-21</td><td>2016-05-12</td><td>2</td></tr><tr><td>4319703577</td><td>2016-04-17</td><td>2016-05-04</td><td>2</td></tr><tr><td>4558609924</td><td>2016-04-18</td><td>2016-05-09</td><td>5</td></tr><tr><td>5577150313</td><td>2016-04-17</td><td>2016-04-17</td><td>1</td></tr><tr><td>6962181067</td><td>2016-04-12</td><td>2016-05-12</td><td>30</td></tr><tr><td>8877689391</td><td>2016-04-12</td><td>2016-05-12</td><td>24</td></tr></table>"
                    },
                    "metadata": {}
                }
            ],
            "execution_count": 7
        },
        {
            "cell_type": "markdown",
            "source": [
                "### <span style=\"color: #008000;\">Results:</span>\n",
                "\n",
                "<span style=\"color: #008000;\">We see that of our 8 participants who logged their weights in their FitBit device, only 2/8 users were truly serious about </span> <span style=\"color: rgb(0, 128, 0);\">keeping track of their weights on a day to day basis. Users '696121067' and '8877689391' had logged their weights on most if not all of the days that we have their data for</span><span style=\"color: rgb(0, 128, 0); font-family: -apple-system, BlinkMacSystemFont, sans-serif;\">.</span>\n",
                "\n",
                "<span style=\"color: #008000;\">We also noticed that there were 2 users who had logged their weights on only one occasion; users '1927972279' and '55771590313'. These users </span> <span style=\"color: rgb(0, 128, 0);\">may have may have simply lost interest or lacked commitment in weight logging, however, we'd need to have a dataset that tracks them for a</span> <span style=\"font-family: -apple-system, BlinkMacSystemFont, sans-serif; color: rgb(0, 128, 0);\">longer time horizon to verify if these users simply weightlog less frequently (i.e. once a month) or if they indeed stopped weight </span> <span style=\"font-family: -apple-system, BlinkMacSystemFont, sans-serif; color: rgb(0, 128, 0);\">logging altogether.</span>\n",
                "\n",
                "<span style=\"color: #008000;\">As for the remaining 4/8 users who had logged more than once but also logged substantially less frequently than our daily weight loggers, </span> <span style=\"color: rgb(0, 128, 0);\">3/4 of them logged twice in our dataset. Of these 3 users, we notice that one of them had logged their weights on two consecutive days; this&nbsp;</span> <span style=\"font-family: -apple-system, BlinkMacSystemFont, sans-serif; color: rgb(0, 128, 0);\">was user #1503960366. From this we infer that this user had simply given up on weight logging as they had no identifiable patterns. As for </span> <span style=\"font-family: -apple-system, BlinkMacSystemFont, sans-serif; color: rgb(0, 128, 0);\">the other two users who had only logged twice, identifying the interval between those two logs would hardly provide enough data to verify if&nbsp;</span>  <span style=\"font-family: -apple-system, BlinkMacSystemFont, sans-serif; color: rgb(0, 128, 0);\">such an interval would qualify as a pattern due to the lack of ability to verify the consistency of that interval. We'd need a longer time </span> <span style=\"font-family: -apple-system, BlinkMacSystemFont, sans-serif; color: rgb(0, 128, 0);\">horizon to accomplish that. In terms of the 4th user who had logged 5 times, let's see if they had any pattern.</span>"
            ],
            "metadata": {
                "language": "sql",
                "azdata_cell_guid": "54b838c9-37cd-43ae-8994-b95e7a126c63"
            },
            "attachments": {}
        },
        {
            "cell_type": "code",
            "source": [
                "--- Taking a closer look at the user who had logged their weight on 5 different occasions\n",
                "\n",
                "SELECT \n",
                "    Id,\n",
                "    Date\n",
                "FROM \n",
                "    CaseStudy1.dbo.WeightLog\n",
                "WHERE \n",
                "    Id LIKE '4558%'"
            ],
            "metadata": {
                "language": "sql",
                "azdata_cell_guid": "8eb2704f-dddd-45d7-bb54-a356c04876c9"
            },
            "outputs": [
                {
                    "output_type": "display_data",
                    "data": {
                        "text/html": "(5 rows affected)"
                    },
                    "metadata": {}
                },
                {
                    "output_type": "display_data",
                    "data": {
                        "text/html": "Total execution time: 00:00:00.007"
                    },
                    "metadata": {}
                },
                {
                    "output_type": "execute_result",
                    "execution_count": 6,
                    "data": {
                        "application/vnd.dataresource+json": {
                            "schema": {
                                "fields": [
                                    {
                                        "name": "Id"
                                    },
                                    {
                                        "name": "Date"
                                    }
                                ]
                            },
                            "data": [
                                {
                                    "0": "4558609924",
                                    "1": "2016-04-18"
                                },
                                {
                                    "0": "4558609924",
                                    "1": "2016-04-25"
                                },
                                {
                                    "0": "4558609924",
                                    "1": "2016-05-01"
                                },
                                {
                                    "0": "4558609924",
                                    "1": "2016-05-02"
                                },
                                {
                                    "0": "4558609924",
                                    "1": "2016-05-09"
                                }
                            ]
                        },
                        "text/html": "<table><tr><th>Id</th><th>Date</th></tr><tr><td>4558609924</td><td>2016-04-18</td></tr><tr><td>4558609924</td><td>2016-04-25</td></tr><tr><td>4558609924</td><td>2016-05-01</td></tr><tr><td>4558609924</td><td>2016-05-02</td></tr><tr><td>4558609924</td><td>2016-05-09</td></tr></table>"
                    },
                    "metadata": {}
                }
            ],
            "execution_count": 6
        },
        {
            "cell_type": "markdown",
            "source": [
                "### <span style=\"color: #008000;\">Results:</span>\n",
                "\n",
                "<span style=\"color: #008000;\">After isolating user #4558609924's weight log history, we find that this user had a relatively consistent weight logging pattern. </span> <span style=\"color: rgb(0, 128, 0);\">This user logged at roughly 7 day intervals between their first and second log, second and third, and fourth and fifth. It was only between</span> <span style=\"color: rgb(0, 128, 0); font-family: -apple-system, BlinkMacSystemFont, sans-serif;\">their third and fourth log had they logged on consecutive days.</span>\n",
                "\n",
                "<span style=\"color: #008000;\">Based on the data we have the only conclusive thing we could say is that only 3/33 (9.09%) of FitBit users had an interest or could stay </span> <span style=\"color: rgb(0, 128, 0);\">comitted to weight logging on a consistent basis. Consistent meaning that they had either logged at determinable consistent intervals</span> <span style=\"color: rgb(0, 128, 0); font-family: -apple-system, BlinkMacSystemFont, sans-serif;\">such as user #4558609924 or were like users #696121067 and #8877689391 who had logged almost every single day.</span>\n",
                "\n",
                "<span style=\"color: #008000;\">Finally, let's take a look at what the average number of logs were in the WeightLog table among the 8 participants</span>"
            ],
            "metadata": {
                "language": "sql",
                "azdata_cell_guid": "90ee2b90-c840-4515-8f8e-9e0c8964034d"
            },
            "attachments": {}
        },
        {
            "cell_type": "code",
            "source": [
                "SELECT AVG(Number_of_Logs) AS Average_Number_of_Logs\n",
                "FROM (\n",
                "    SELECT \n",
                "        Id,\n",
                "        COUNT(*) AS Number_of_Logs\n",
                "    FROM\n",
                "        CaseStudy1.dbo.WeightLog\n",
                "    GROUP BY Id\n",
                ") as Table2"
            ],
            "metadata": {
                "language": "sql",
                "azdata_cell_guid": "b42db07e-aee2-4475-9eab-cf3c2d102d86"
            },
            "outputs": [
                {
                    "output_type": "display_data",
                    "data": {
                        "text/html": "(1 row affected)"
                    },
                    "metadata": {}
                },
                {
                    "output_type": "display_data",
                    "data": {
                        "text/html": "Total execution time: 00:00:00.018"
                    },
                    "metadata": {}
                },
                {
                    "output_type": "execute_result",
                    "execution_count": 5,
                    "data": {
                        "application/vnd.dataresource+json": {
                            "schema": {
                                "fields": [
                                    {
                                        "name": "Average_Number_of_Logs"
                                    }
                                ]
                            },
                            "data": [
                                {
                                    "0": "8"
                                }
                            ]
                        },
                        "text/html": "<table><tr><th>Average_Number_of_Logs</th></tr><tr><td>8</td></tr></table>"
                    },
                    "metadata": {}
                }
            ],
            "execution_count": 5
        },
        {
            "cell_type": "markdown",
            "source": [
                "### <span style=\"color: #008000;\">Results:</span>\n",
                "\n",
                "<span style=\"color: #008000;\">The average number of weight logs submittd by the 8 users who had weight logged was 8. Comparing this average to </span> <span style=\"color: rgb(0, 128, 0);\">the average number of logs for users who had logged their 'daily activities', which was 28, it seems evident that weight logging isn't&nbsp;</span>  <span style=\"color: rgb(0, 128, 0); font-family: -apple-system, BlinkMacSystemFont, sans-serif;\">a priority amongst the sample population for our FitBit users.</span>"
            ],
            "metadata": {
                "language": "sql",
                "azdata_cell_guid": "651aff05-dda2-474f-bfeb-02fe4a2bf903"
            },
            "attachments": {}
        },
        {
            "cell_type": "code",
            "source": [
                "-- Next, let's see if we can find out if our most consistent weight logger ended up losing any weight? \n",
                "\n",
                "SELECT \n",
                "    Id,\n",
                "    WeightPounds\n",
                "FROM CaseStudy1.dbo.WeightLog\n",
                "WHERE \n",
                "    Id = 6962181067 AND \n",
                "    Date = (\n",
                "        SELECT \n",
                "            MIN(Date) AS Min\n",
                "        FROM CaseStudy1.dbo.WeightLog\n",
                "        WHERE Id = 6962181067 \n",
                "            ) OR\n",
                "    Id = 6962181067 AND\n",
                "    Date = (\n",
                "        SELECT \n",
                "            MAX(Date) AS Max\n",
                "        FROM CaseStudy1.dbo.WeightLog\n",
                "        WHERE Id = 6962181067\n",
                "            )"
            ],
            "metadata": {
                "azdata_cell_guid": "adc81a7e-e3a2-4bce-a641-ccd064bda566",
                "language": "sql"
            },
            "outputs": [
                {
                    "output_type": "display_data",
                    "data": {
                        "text/html": "(2 rows affected)"
                    },
                    "metadata": {}
                },
                {
                    "output_type": "display_data",
                    "data": {
                        "text/html": "Total execution time: 00:00:00.032"
                    },
                    "metadata": {}
                },
                {
                    "output_type": "execute_result",
                    "execution_count": 10,
                    "data": {
                        "application/vnd.dataresource+json": {
                            "schema": {
                                "fields": [
                                    {
                                        "name": "Id"
                                    },
                                    {
                                        "name": "WeightPounds"
                                    }
                                ]
                            },
                            "data": [
                                {
                                    "0": "6962181067",
                                    "1": "137.788913865625"
                                },
                                {
                                    "0": "6962181067",
                                    "1": "136.466143656502"
                                }
                            ]
                        },
                        "text/html": "<table><tr><th>Id</th><th>WeightPounds</th></tr><tr><td>6962181067</td><td>137.788913865625</td></tr><tr><td>6962181067</td><td>136.466143656502</td></tr></table>"
                    },
                    "metadata": {}
                }
            ],
            "execution_count": 10
        },
        {
            "cell_type": "markdown",
            "source": [
                "### <span style=\"color: #008000;\">Note:</span>\n",
                "\n",
                "<span style=\"color: #008000;\">The WHERE clause in the query above is split up into 2 conditions: (1) Where ID = 6962181067 AND the first day that participant </span> <span style=\"color: rgb(0, 128, 0);\">#6962181067 had logged their weight and (2) where, again, ID = 6962181067 AND the last day that the participant had logged their weight</span>\n",
                "\n",
                "### <span style=\"color: #008000;\">Results:&nbsp;</span> \n",
                "\n",
                "<span style=\"color: #008000;\">Based on the query above we've discovered that from the first day and last day that participant #6962181067 had logged their </span> <span style=\"color: rgb(0, 128, 0);\">weight, this individual had lost roughly 1.3228 pounds (137.7889 lbs - 136.4661 lbs)</span>\n",
                "\n",
                "### <span style=\"color: #008000;\">Hypothesis:&nbsp;</span> \n",
                "\n",
                "<span style=\"color: #008000;\">The motivation behind why #6962181067 was so committed on keeping track of their weight every single day could have </span> <span style=\"color: rgb(0, 128, 0);\">been from their desire to track their weight loss journey!</span>"
            ],
            "metadata": {
                "language": "sql",
                "azdata_cell_guid": "51076d7f-4a87-47e8-a4e0-0230e696aa52"
            },
            "attachments": {}
        },
        {
            "cell_type": "code",
            "source": [
                "-- Let's see how user #6962181067's weight fluctuated during the month he had consistently weight logged\n",
                "\n",
                "SELECT \n",
                "    Date,\n",
                "    WeightPounds AS Weight_lbs\n",
                "FROM\n",
                "    CaseStudy1.dbo.WeightLog\n",
                "WHERE \n",
                "    Id = 6962181067\n",
                "ORDER BY\n",
                "    Date ASC"
            ],
            "metadata": {
                "language": "sql",
                "azdata_cell_guid": "0d5f79a4-8d4b-49dc-a07a-704a79330d4b"
            },
            "outputs": [
                {
                    "output_type": "display_data",
                    "data": {
                        "text/html": "(30 rows affected)"
                    },
                    "metadata": {}
                },
                {
                    "output_type": "display_data",
                    "data": {
                        "text/html": "Total execution time: 00:00:00.015"
                    },
                    "metadata": {}
                },
                {
                    "output_type": "execute_result",
                    "execution_count": 8,
                    "data": {
                        "application/vnd.dataresource+json": {
                            "schema": {
                                "fields": [
                                    {
                                        "name": "Date"
                                    },
                                    {
                                        "name": "Weight_lbs"
                                    }
                                ]
                            },
                            "data": [
                                {
                                    "0": "2016-04-12",
                                    "1": "137.788913865625"
                                },
                                {
                                    "0": "2016-04-13",
                                    "1": "136.907061452898"
                                },
                                {
                                    "0": "2016-04-14",
                                    "1": "136.025217450139"
                                },
                                {
                                    "0": "2016-04-15",
                                    "1": "135.584291243775"
                                },
                                {
                                    "0": "2016-04-16",
                                    "1": "136.6866025547"
                                },
                                {
                                    "0": "2016-04-17",
                                    "1": "135.363832345577"
                                },
                                {
                                    "0": "2016-04-18",
                                    "1": "134.922906139214"
                                },
                                {
                                    "0": "2016-04-19",
                                    "1": "135.363832345577"
                                },
                                {
                                    "0": "2016-04-20",
                                    "1": "136.025217450139"
                                },
                                {
                                    "0": "2016-04-21",
                                    "1": "135.363832345577"
                                },
                                {
                                    "0": "2016-04-22",
                                    "1": "135.363832345577"
                                },
                                {
                                    "0": "2016-04-23",
                                    "1": "135.584291243775"
                                },
                                {
                                    "0": "2016-04-24",
                                    "1": "135.584291243775"
                                },
                                {
                                    "0": "2016-04-25",
                                    "1": "136.025217450139"
                                },
                                {
                                    "0": "2016-04-27",
                                    "1": "134.922906139214"
                                },
                                {
                                    "0": "2016-04-28",
                                    "1": "134.922906139214"
                                },
                                {
                                    "0": "2016-04-29",
                                    "1": "135.363832345577"
                                },
                                {
                                    "0": "2016-04-30",
                                    "1": "134.48197993285"
                                },
                                {
                                    "0": "2016-05-01",
                                    "1": "136.025217450139"
                                },
                                {
                                    "0": "2016-05-02",
                                    "1": "135.584291243775"
                                },
                                {
                                    "0": "2016-05-03",
                                    "1": "134.48197993285"
                                },
                                {
                                    "0": "2016-05-04",
                                    "1": "134.702438831048"
                                },
                                {
                                    "0": "2016-05-05",
                                    "1": "135.143365037411"
                                },
                                {
                                    "0": "2016-05-06",
                                    "1": "135.584291243775"
                                },
                                {
                                    "0": "2016-05-07",
                                    "1": "134.922906139214"
                                },
                                {
                                    "0": "2016-05-08",
                                    "1": "134.922906139214"
                                },
                                {
                                    "0": "2016-05-09",
                                    "1": "137.568454967427"
                                },
                                {
                                    "0": "2016-05-10",
                                    "1": "136.907061452898"
                                },
                                {
                                    "0": "2016-05-11",
                                    "1": "136.466143656502"
                                },
                                {
                                    "0": "2016-05-12",
                                    "1": "136.466143656502"
                                }
                            ]
                        },
                        "text/html": "<table><tr><th>Date</th><th>Weight_lbs</th></tr><tr><td>2016-04-12</td><td>137.788913865625</td></tr><tr><td>2016-04-13</td><td>136.907061452898</td></tr><tr><td>2016-04-14</td><td>136.025217450139</td></tr><tr><td>2016-04-15</td><td>135.584291243775</td></tr><tr><td>2016-04-16</td><td>136.6866025547</td></tr><tr><td>2016-04-17</td><td>135.363832345577</td></tr><tr><td>2016-04-18</td><td>134.922906139214</td></tr><tr><td>2016-04-19</td><td>135.363832345577</td></tr><tr><td>2016-04-20</td><td>136.025217450139</td></tr><tr><td>2016-04-21</td><td>135.363832345577</td></tr><tr><td>2016-04-22</td><td>135.363832345577</td></tr><tr><td>2016-04-23</td><td>135.584291243775</td></tr><tr><td>2016-04-24</td><td>135.584291243775</td></tr><tr><td>2016-04-25</td><td>136.025217450139</td></tr><tr><td>2016-04-27</td><td>134.922906139214</td></tr><tr><td>2016-04-28</td><td>134.922906139214</td></tr><tr><td>2016-04-29</td><td>135.363832345577</td></tr><tr><td>2016-04-30</td><td>134.48197993285</td></tr><tr><td>2016-05-01</td><td>136.025217450139</td></tr><tr><td>2016-05-02</td><td>135.584291243775</td></tr><tr><td>2016-05-03</td><td>134.48197993285</td></tr><tr><td>2016-05-04</td><td>134.702438831048</td></tr><tr><td>2016-05-05</td><td>135.143365037411</td></tr><tr><td>2016-05-06</td><td>135.584291243775</td></tr><tr><td>2016-05-07</td><td>134.922906139214</td></tr><tr><td>2016-05-08</td><td>134.922906139214</td></tr><tr><td>2016-05-09</td><td>137.568454967427</td></tr><tr><td>2016-05-10</td><td>136.907061452898</td></tr><tr><td>2016-05-11</td><td>136.466143656502</td></tr><tr><td>2016-05-12</td><td>136.466143656502</td></tr></table>"
                    },
                    "metadata": {}
                }
            ],
            "execution_count": 8
        },
        {
            "cell_type": "markdown",
            "source": [
                "<span style=\"color: #008000;\">It might be a bit difficult identifying the trend of user 6962181067's weight as the month went by purely based on the table below;&nbsp;</span> <span style=\"color: rgb(0, 128, 0); font-family: -apple-system, BlinkMacSystemFont, sans-serif;\">let's try visualizing by exporting this table and importing it into Tableau!&nbsp;</span> <span style=\"color: rgb(0, 128, 0); font-family: -apple-system, BlinkMacSystemFont, sans-serif;\">Visualized result can be found here:</span> [https://public.tableau.com/views/BellabeatDataProject-User6962181067sWeightLog/Sheet1?:language=en-US&publish=yes&:display\\_count=n&:origin=viz\\_share\\_link](https://public.tableau.com/views/BellabeatDataProject-User6962181067sWeightLog/Sheet1?:language=en-US&publish=yes&:display_count=n&:origin=viz_share_link)\n",
                "\n",
                "### <span style=\"color: #008000;\">Result:&nbsp;</span> \n",
                "\n",
                "<span style=\"color: #008000;\">There we're some fluctuations in our user's weight but generally speaking it looks like our most active weight-logger had a&nbsp;</span>    <span style=\"color: rgb(0, 128, 0); font-family: -apple-system, BlinkMacSystemFont, sans-serif;\">downward trend in terms of his/her overall weight throughout April 12th to May 12th.&nbsp;</span> <span style=\"color: rgb(0, 128, 0); font-family: -apple-system, BlinkMacSystemFont, sans-serif;\">Discrepancies between weight could be explained by numerous reasons. Here's just to list a few:</span>\n",
                "\n",
                "1. <span style=\"color: #008000;\">The human body's weight naturally fluctuates, this could be what we're observing from our visual</span>\n",
                "2. <span style=\"color: #008000;\">The individual may have logged consistently throughout the month; for example before a meal on one day and after a meal on another</span>\n",
                "3. <span style=\"color: #008000;\">Water intake and expiration based on exercise intensity may also impact weight</span>\n",
                "\n",
                "<span style=\"color: rgb(0, 128, 0); font-family: -apple-system, BlinkMacSystemFont, sans-serif;\">Next, let's take a look at how many participants logged their sleep using their FitBit device</span>"
            ],
            "metadata": {
                "language": "sql",
                "azdata_cell_guid": "091c518c-8334-49b3-9c07-b945dba1fad1"
            },
            "attachments": {}
        },
        {
            "cell_type": "code",
            "source": [
                "-- Now let's take a look at how many participants there were in the Daily_Sleep dataset\n",
                "\n",
                "SELECT\n",
                "    COUNT(DISTINCT Id) Number_of_Sleep_Loggers\n",
                "FROM \n",
                "    CaseStudy1.dbo.Daily_Sleep"
            ],
            "metadata": {
                "azdata_cell_guid": "dfc46281-4356-44cf-a8b8-adfbe6e8e07e",
                "language": "sql",
                "tags": []
            },
            "outputs": [
                {
                    "output_type": "display_data",
                    "data": {
                        "text/html": "(1 row affected)"
                    },
                    "metadata": {}
                },
                {
                    "output_type": "display_data",
                    "data": {
                        "text/html": "Total execution time: 00:00:00.010"
                    },
                    "metadata": {}
                },
                {
                    "output_type": "execute_result",
                    "execution_count": 11,
                    "data": {
                        "application/vnd.dataresource+json": {
                            "schema": {
                                "fields": [
                                    {
                                        "name": "Number_of_Sleep_Loggers"
                                    }
                                ]
                            },
                            "data": [
                                {
                                    "0": "24"
                                }
                            ]
                        },
                        "text/html": "<table><tr><th>Number_of_Sleep_Loggers</th></tr><tr><td>24</td></tr></table>"
                    },
                    "metadata": {}
                }
            ],
            "execution_count": 11
        },
        {
            "cell_type": "markdown",
            "source": [
                "### <span style=\"color: #008000;\">Result:</span>\n",
                "\n",
                "<span style=\"color: #008000;\">Our finding shows that 24/33 users had used their FitBit device to track their sleep. That's roughly 72.72% of our sample </span> <span style=\"color: rgb(0, 128, 0);\">population. Right of the bat, we notice that many more FitBit users are concerned with logging their sleep than they are their weight. </span> <span style=\"color: rgb(0, 128, 0);\">Next, just to satisfy my curiosity, let's check out how many of our weight loggers also logged their sleep:</span>"
            ],
            "metadata": {
                "azdata_cell_guid": "3837a859-ca15-4cbf-8c9f-d2d183118926"
            },
            "attachments": {}
        },
        {
            "cell_type": "code",
            "source": [
                "SELECT \n",
                "    COUNT(DISTINCT Id) AS Number_Of_WeightSleep_Loggers\n",
                "FROM\n",
                "    CaseStudy1.dbo.Daily_Sleep\n",
                "WHERE Id IN (\n",
                "    SELECT \n",
                "        DISTINCT Id\n",
                "    FROM \n",
                "        CaseStudy1.dbo.WeightLog\n",
                "        )"
            ],
            "metadata": {
                "azdata_cell_guid": "b4991cf8-128a-4e8e-85cc-9711fe71b9fc",
                "language": "sql"
            },
            "outputs": [
                {
                    "output_type": "display_data",
                    "data": {
                        "text/html": "(1 row affected)"
                    },
                    "metadata": {}
                },
                {
                    "output_type": "display_data",
                    "data": {
                        "text/html": "Total execution time: 00:00:00.007"
                    },
                    "metadata": {}
                },
                {
                    "output_type": "execute_result",
                    "execution_count": 14,
                    "data": {
                        "application/vnd.dataresource+json": {
                            "schema": {
                                "fields": [
                                    {
                                        "name": "Number_Of_WeightSleep_Loggers"
                                    }
                                ]
                            },
                            "data": [
                                {
                                    "0": "6"
                                }
                            ]
                        },
                        "text/html": "<table><tr><th>Number_Of_WeightSleep_Loggers</th></tr><tr><td>6</td></tr></table>"
                    },
                    "metadata": {}
                }
            ],
            "execution_count": 14
        },
        {
            "cell_type": "markdown",
            "source": [
                "### <span style=\"color: rgb(0, 128, 0); font-family: -apple-system, BlinkMacSystemFont, sans-serif;\">Result:</span>\n",
                "\n",
                "<span style=\"color: #008000;\">We find that 6/8 of our weight loggers had also kept a sleep log!&nbsp;</span>  <span style=\"font-family: -apple-system, BlinkMacSystemFont, sans-serif; color: rgb(0, 128, 0);\">Now let's take a look at whether the individuals who sleep logged were more consistent than the individuals who weight logged when it comes to actively inputting </span> <span style=\"font-family: -apple-system, BlinkMacSystemFont, sans-serif; color: rgb(0, 128, 0);\">data into their FitBit device.</span>"
            ],
            "metadata": {
                "language": "sql",
                "azdata_cell_guid": "98a9f948-ee2a-4812-9171-1cf4485b85a6"
            },
            "attachments": {}
        },
        {
            "cell_type": "code",
            "source": [
                "SELECT\n",
                "    Id,\n",
                "    MIN(SleepDay) AS Earliest_Sleep_Log,\n",
                "    MAX(SleepDay) AS Latest_Sleep_log,\n",
                "    Count(*) AS Number_Of_Sleep_Logs\n",
                "FROM\n",
                "    CaseStudy1.dbo.Daily_Sleep\n",
                "GROUP BY \n",
                "    Id\n",
                "ORDER BY Number_Of_Sleep_logs DESC"
            ],
            "metadata": {
                "language": "sql",
                "azdata_cell_guid": "4bcedf8f-76ba-4c0a-8ad9-99c6ba81f846"
            },
            "outputs": [
                {
                    "output_type": "display_data",
                    "data": {
                        "text/html": "(24 rows affected)"
                    },
                    "metadata": {}
                },
                {
                    "output_type": "display_data",
                    "data": {
                        "text/html": "Total execution time: 00:00:00.104"
                    },
                    "metadata": {}
                },
                {
                    "output_type": "execute_result",
                    "execution_count": 1,
                    "data": {
                        "application/vnd.dataresource+json": {
                            "schema": {
                                "fields": [
                                    {
                                        "name": "Id"
                                    },
                                    {
                                        "name": "Earliest_Sleep_Log"
                                    },
                                    {
                                        "name": "Latest_Sleep_log"
                                    },
                                    {
                                        "name": "Number_Of_Sleep_Logs"
                                    }
                                ]
                            },
                            "data": [
                                {
                                    "0": "8378563200",
                                    "1": "2016-04-12",
                                    "2": "2016-05-12",
                                    "3": "32"
                                },
                                {
                                    "0": "6962181067",
                                    "1": "2016-04-12",
                                    "2": "2016-05-12",
                                    "3": "31"
                                },
                                {
                                    "0": "5553957443",
                                    "1": "2016-04-12",
                                    "2": "2016-05-12",
                                    "3": "31"
                                },
                                {
                                    "0": "4445114986",
                                    "1": "2016-04-12",
                                    "2": "2016-05-12",
                                    "3": "28"
                                },
                                {
                                    "0": "2026352035",
                                    "1": "2016-04-12",
                                    "2": "2016-05-12",
                                    "3": "28"
                                },
                                {
                                    "0": "3977333714",
                                    "1": "2016-04-12",
                                    "2": "2016-05-10",
                                    "3": "28"
                                },
                                {
                                    "0": "4702921684",
                                    "1": "2016-04-12",
                                    "2": "2016-05-12",
                                    "3": "28"
                                },
                                {
                                    "0": "4319703577",
                                    "1": "2016-04-14",
                                    "2": "2016-05-12",
                                    "3": "26"
                                },
                                {
                                    "0": "5577150313",
                                    "1": "2016-04-12",
                                    "2": "2016-05-11",
                                    "3": "26"
                                },
                                {
                                    "0": "1503960366",
                                    "1": "2016-04-12",
                                    "2": "2016-05-11",
                                    "3": "25"
                                },
                                {
                                    "0": "4388161847",
                                    "1": "2016-04-15",
                                    "2": "2016-05-11",
                                    "3": "24"
                                },
                                {
                                    "0": "7086361926",
                                    "1": "2016-04-12",
                                    "2": "2016-05-12",
                                    "3": "24"
                                },
                                {
                                    "0": "6117666160",
                                    "1": "2016-04-16",
                                    "2": "2016-05-09",
                                    "3": "18"
                                },
                                {
                                    "0": "2347167796",
                                    "1": "2016-04-13",
                                    "2": "2016-04-29",
                                    "3": "15"
                                },
                                {
                                    "0": "8792009665",
                                    "1": "2016-04-12",
                                    "2": "2016-05-04",
                                    "3": "15"
                                },
                                {
                                    "0": "4020332650",
                                    "1": "2016-04-12",
                                    "2": "2016-05-10",
                                    "3": "8"
                                },
                                {
                                    "0": "1927972279",
                                    "1": "2016-04-12",
                                    "2": "2016-04-28",
                                    "3": "5"
                                },
                                {
                                    "0": "4558609924",
                                    "1": "2016-04-21",
                                    "2": "2016-05-08",
                                    "3": "5"
                                },
                                {
                                    "0": "1644430081",
                                    "1": "2016-04-29",
                                    "2": "2016-05-08",
                                    "3": "4"
                                },
                                {
                                    "0": "1844505072",
                                    "1": "2016-04-15",
                                    "2": "2016-05-01",
                                    "3": "3"
                                },
                                {
                                    "0": "6775888955",
                                    "1": "2016-04-13",
                                    "2": "2016-04-15",
                                    "3": "3"
                                },
                                {
                                    "0": "8053475328",
                                    "1": "2016-04-20",
                                    "2": "2016-05-07",
                                    "3": "3"
                                },
                                {
                                    "0": "7007744171",
                                    "1": "2016-04-16",
                                    "2": "2016-05-01",
                                    "3": "2"
                                },
                                {
                                    "0": "2320127002",
                                    "1": "2016-04-23",
                                    "2": "2016-04-23",
                                    "3": "1"
                                }
                            ]
                        },
                        "text/html": "<table><tr><th>Id</th><th>Earliest_Sleep_Log</th><th>Latest_Sleep_log</th><th>Number_Of_Sleep_Logs</th></tr><tr><td>8378563200</td><td>2016-04-12</td><td>2016-05-12</td><td>32</td></tr><tr><td>6962181067</td><td>2016-04-12</td><td>2016-05-12</td><td>31</td></tr><tr><td>5553957443</td><td>2016-04-12</td><td>2016-05-12</td><td>31</td></tr><tr><td>4445114986</td><td>2016-04-12</td><td>2016-05-12</td><td>28</td></tr><tr><td>2026352035</td><td>2016-04-12</td><td>2016-05-12</td><td>28</td></tr><tr><td>3977333714</td><td>2016-04-12</td><td>2016-05-10</td><td>28</td></tr><tr><td>4702921684</td><td>2016-04-12</td><td>2016-05-12</td><td>28</td></tr><tr><td>4319703577</td><td>2016-04-14</td><td>2016-05-12</td><td>26</td></tr><tr><td>5577150313</td><td>2016-04-12</td><td>2016-05-11</td><td>26</td></tr><tr><td>1503960366</td><td>2016-04-12</td><td>2016-05-11</td><td>25</td></tr><tr><td>4388161847</td><td>2016-04-15</td><td>2016-05-11</td><td>24</td></tr><tr><td>7086361926</td><td>2016-04-12</td><td>2016-05-12</td><td>24</td></tr><tr><td>6117666160</td><td>2016-04-16</td><td>2016-05-09</td><td>18</td></tr><tr><td>2347167796</td><td>2016-04-13</td><td>2016-04-29</td><td>15</td></tr><tr><td>8792009665</td><td>2016-04-12</td><td>2016-05-04</td><td>15</td></tr><tr><td>4020332650</td><td>2016-04-12</td><td>2016-05-10</td><td>8</td></tr><tr><td>1927972279</td><td>2016-04-12</td><td>2016-04-28</td><td>5</td></tr><tr><td>4558609924</td><td>2016-04-21</td><td>2016-05-08</td><td>5</td></tr><tr><td>1644430081</td><td>2016-04-29</td><td>2016-05-08</td><td>4</td></tr><tr><td>1844505072</td><td>2016-04-15</td><td>2016-05-01</td><td>3</td></tr><tr><td>6775888955</td><td>2016-04-13</td><td>2016-04-15</td><td>3</td></tr><tr><td>8053475328</td><td>2016-04-20</td><td>2016-05-07</td><td>3</td></tr><tr><td>7007744171</td><td>2016-04-16</td><td>2016-05-01</td><td>2</td></tr><tr><td>2320127002</td><td>2016-04-23</td><td>2016-04-23</td><td>1</td></tr></table>"
                    },
                    "metadata": {}
                }
            ],
            "execution_count": 1
        },
        {
            "cell_type": "markdown",
            "source": [
                "### <span style=\"color: #008000;\">Result:</span>\n",
                "\n",
                "<span style=\"color: #008000;\">We've created a query where we have been able to identify the first and last date that each of </span> <span style=\"color: rgb(0, 128, 0);\">the 24 participants had logged their sleep. We were also able to identify how many times each individual </span> <span style=\"color: rgb(0, 128, 0);\">had logged their sleep between their first and last sleep log date.</span>\n",
                "\n",
                "  \n",
                "\n",
                "<span style=\"color: #008000;\">We immediately notice that most participants who logged their sleep were more consistent with logging </span> <span style=\"color: rgb(0, 128, 0);\">than those who had logged their weights! Next, let's see what the average number of sleep logs were </span> <span style=\"color: rgb(0, 128, 0);\">among all the participants!</span>"
            ],
            "metadata": {
                "language": "sql",
                "azdata_cell_guid": "ece83874-a459-4c7e-8cb3-890a9811dfcd"
            },
            "attachments": {}
        },
        {
            "cell_type": "code",
            "source": [
                "SELECT \n",
                "    MIN(SleepDay) AS Earliest_Log_Date,\n",
                "    MAX(SleepDay) AS Latest_Log_Date,\n",
                "    (SELECT AVG(Num_Of_Logs) -- Reminder (for myself): This is a subquery within the SELECT clause\n",
                "    FROM (SELECT \n",
                "            Id,\n",
                "            COUNT(*) AS Num_Of_Logs\n",
                "        FROM \n",
                "            CaseStudy1.dbo.Daily_Sleep\n",
                "        GROUP BY Id\n",
                "        ) AS subquery1\n",
                "    ) AS Average_Num_of_Logs\n",
                "FROM \n",
                "    CaseStudy1.dbo.Daily_Sleep"
            ],
            "metadata": {
                "language": "sql",
                "azdata_cell_guid": "a017e6f4-0d22-4bba-934f-06af9fdc14d5"
            },
            "outputs": [
                {
                    "output_type": "display_data",
                    "data": {
                        "text/html": "(1 row affected)"
                    },
                    "metadata": {}
                },
                {
                    "output_type": "display_data",
                    "data": {
                        "text/html": "Total execution time: 00:00:00.016"
                    },
                    "metadata": {}
                },
                {
                    "output_type": "execute_result",
                    "execution_count": 13,
                    "data": {
                        "application/vnd.dataresource+json": {
                            "schema": {
                                "fields": [
                                    {
                                        "name": "Earliest_Log_Date"
                                    },
                                    {
                                        "name": "Latest_Log_Date"
                                    },
                                    {
                                        "name": "Average_Num_of_Logs"
                                    }
                                ]
                            },
                            "data": [
                                {
                                    "0": "2016-04-12",
                                    "1": "2016-05-12",
                                    "2": "17"
                                }
                            ]
                        },
                        "text/html": "<table><tr><th>Earliest_Log_Date</th><th>Latest_Log_Date</th><th>Average_Num_of_Logs</th></tr><tr><td>2016-04-12</td><td>2016-05-12</td><td>17</td></tr></table>"
                    },
                    "metadata": {}
                }
            ],
            "execution_count": 13
        },
        {
            "cell_type": "markdown",
            "source": [
                "### <span style=\"color: #008000;\">Result:</span>\n",
                "\n",
                "<span style=\"color: #008000;\">We find that between the first sleep log recorded and the last sleep log recorded for data collected within the Daily_Sleep </span> <span style=\"color: rgb(0, 128, 0);\">table, the average number of logs made amongst the 24 participants was 17!</span>"
            ],
            "metadata": {
                "language": "sql",
                "azdata_cell_guid": "e9ae7c9a-dd2d-4437-bd30-210035bd31e6"
            },
            "attachments": {}
        },
        {
            "cell_type": "markdown",
            "source": [
                "## Final Remarks:\n",
                "\n",
                "## <span style=\"color: rgb(0, 128, 0); font-size: 14px; font-family: -apple-system, BlinkMacSystemFont, sans-serif;\">Let's start off by summarizing the findings we've made with our analysis on the FitBit tracker dataset using SQL:</span>  \n",
                "\n",
                "- <span style=\"color: #008000;\">We had a sample size of 33 FitBit users</span>\n",
                "- <span style=\"color: #008000;\">All of the users in our dataset (33/33) happened to use their FitBit devices to track their Daily Activities; the average number of logs among all these participants was 28</span>\n",
                "- <span style=\"color: #008000;\">Only 8/33 or 24.24% of our users had used their FitBit devices for weight logging, of which we could only define 3 of the 33 as consistent weight loggers given the data available. Additionally, the average logs submitted between the users in our weight log dataset was only 8!</span>\n",
                "- <span style=\"color: #008000;\">Sleep loggers were more plentiful; 24/33 or 72.72% of our sample size had used their FitBit devices to track their sleep. Between our sleep loggers, they averaged 17 logs submitted.</span>\n",
                "\n",
                "### \\*Log Frequency Dashboard - Tableau\\*\n",
                "\n",
                "A dashboard created on Tableau illustrating the number of logs each user made for each health category tracked (Daily\\_Activity, Daily\\_Sleep, and WeightLog) can be found [here](https://public.tableau.com/app/profile/sunny1222/viz/BellabeatsCaseStudy-UserLoggingFrequencyDashboard/Dashboard1).\n",
                "\n",
                "<span style=\"color: #008000;\">Based on these findings, the conclusion for Bellabeats is the following:</span>\n",
                "\n",
                "- <span style=\"color: #008000;\">Asides from developing a product that focuses on tracking one's daily activity, it's also important to focus on marketing and perhaps further improving the sleep tracking feature for Bellabeat devices.</span>\n",
                "- <span style=\"color: #008000;\">While the weight logging aspect of these heath-tech smart devices might not be a high priority due to its low share of users, discovering a way to make weight logging easier (or perhaps more automated) could increase the number of individuals interested in the weight logging</span>"
            ],
            "metadata": {
                "azdata_cell_guid": "6a24381f-9792-43eb-ac66-d6ba3645f4fd"
            },
            "attachments": {}
        }
    ]
}